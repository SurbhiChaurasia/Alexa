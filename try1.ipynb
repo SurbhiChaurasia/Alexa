{
  "nbformat": 4,
  "nbformat_minor": 0,
  "metadata": {
    "colab": {
      "name": "try1.ipynb",
      "version": "0.3.2",
      "provenance": [],
      "include_colab_link": true
    },
    "kernelspec": {
      "name": "python3",
      "display_name": "Python 3"
    },
    "accelerator": "TPU"
  },
  "cells": [
    {
      "cell_type": "markdown",
      "metadata": {
        "id": "view-in-github",
        "colab_type": "text"
      },
      "source": [
        "<a href=\"https://colab.research.google.com/github/SurbhiChaurasia/Alexa/blob/master/try1.ipynb\" target=\"_parent\"><img src=\"https://colab.research.google.com/assets/colab-badge.svg\" alt=\"Open In Colab\"/></a>"
      ]
    },
    {
      "metadata": {
        "id": "-G9pVLXzEdwu",
        "colab_type": "code",
        "colab": {
          "base_uri": "https://localhost:8080/",
          "height": 122
        },
        "outputId": "059b6819-ed13-420a-d4d0-15b00219df7e"
      },
      "cell_type": "code",
      "source": [
        "from google.colab import drive\n",
        "drive.mount('/content/drive/')"
      ],
      "execution_count": 3,
      "outputs": [
        {
          "output_type": "stream",
          "text": [
            "Go to this URL in a browser: https://accounts.google.com/o/oauth2/auth?client_id=947318989803-6bn6qk8qdgf4n4g3pfee6491hc0brc4i.apps.googleusercontent.com&redirect_uri=urn%3Aietf%3Awg%3Aoauth%3A2.0%3Aoob&scope=email%20https%3A%2F%2Fwww.googleapis.com%2Fauth%2Fdocs.test%20https%3A%2F%2Fwww.googleapis.com%2Fauth%2Fdrive%20https%3A%2F%2Fwww.googleapis.com%2Fauth%2Fdrive.photos.readonly%20https%3A%2F%2Fwww.googleapis.com%2Fauth%2Fpeopleapi.readonly&response_type=code\n",
            "\n",
            "Enter your authorization code:\n",
            "··········\n",
            "Mounted at /content/drive/\n"
          ],
          "name": "stdout"
        }
      ]
    },
    {
      "metadata": {
        "id": "sXZ-7WKAD3_e",
        "colab_type": "text"
      },
      "cell_type": "markdown",
      "source": [
        ""
      ]
    },
    {
      "metadata": {
        "id": "EttAkZ_nD2W1",
        "colab_type": "code",
        "colab": {
          "base_uri": "https://localhost:8080/",
          "height": 3451
        },
        "outputId": "af28f73f-9ee8-4ef4-904b-4671c8e107cd"
      },
      "cell_type": "code",
      "source": [
        "!ls \"/content/drive/My Drive\""
      ],
      "execution_count": 4,
      "outputs": [
        {
          "output_type": "stream",
          "text": [
            "'01.  lecture5-introduction-to-radial-basis-function-networks.ppt'\n",
            "\"02.  'NNets9_10Rbfs.ppt'\"\n",
            "'0_Chapter 1 testing.pdf'\n",
            "'0_Chapter 4[1].pdf'\n",
            "'0_Chapter 5[1].pdf'\n",
            "'0.  Deep-Learning-2017-Lecture5CNN.ppt'\n",
            "'10.  20091226716033-19-0-36.pdf'\n",
            " 1impdef_2.pdf\n",
            "'2.  SVM (1).ppt'\n",
            "'3.  svm_tutorial.ppt'\n",
            "'4.  duality.pdf'\n",
            "'5.  Duality theory.ppt'\n",
            "'6.  kohonenlecture-Oct22.ppt'\n",
            "'7.  pcaLectureShort.pdf'\n",
            "'8.  PCA1.ppt'\n",
            "'9.  KPCA.pdf'\n",
            " ACN.pdf\n",
            " ADA.pdf\n",
            "'AI01 (1).ppt'\n",
            "'AI01 (2).ppt'\n",
            "'AI01 (3).ppt'\n",
            "'AI01 (4).ppt'\n",
            " AI01.ppt\n",
            "'AI02 (1).ppt'\n",
            "'AI02 (2).ppt'\n",
            "'AI02 (3).ppt'\n",
            "'AI02 (4).ppt'\n",
            " AI02.ppt\n",
            "'AI03-Tic-Tac-Toe (1).ppt'\n",
            "'AI03-Tic-Tac-Toe (2).ppt'\n",
            " AI03-Tic-Tac-Toe.ppt\n",
            "'AI04-search (1).ppt'\n",
            "'AI04-search (2).ppt'\n",
            " AI04-search.ppt\n",
            "'AI05-bestfirst (1).ppt'\n",
            "'AI05-bestfirst (2).ppt'\n",
            "'AI05-bestfirst (3).ppt'\n",
            "'AI05-bestfirst (4).ppt'\n",
            "'AI05-bestfirst (5).ppt'\n",
            " AI05-bestfirst.ppt\n",
            "'AI06-best first A star (1).ppt'\n",
            "'AI06-best first A star (2).ppt'\n",
            "'AI06-best first A star (3).ppt'\n",
            "'AI06-best first A star (4).ppt'\n",
            "'AI06-best first A star (5).ppt'\n",
            "'AI06-best first A star.ppt'\n",
            "'AI07-geneticalg (1).ppt'\n",
            "'AI07-geneticalg (2).ppt'\n",
            "'AI07-geneticalg (3).ppt'\n",
            "'AI07-geneticalg (4).ppt'\n",
            " AI07-geneticalg.ppt\n",
            "'AI08-evolution (1).ppt'\n",
            "'AI08-evolution (2).ppt'\n",
            " AI08-evolution.ppt\n",
            "'AI09-csp (1).ppt'\n",
            "'AI09-csp (2).ppt'\n",
            " AI09-csp.ppt\n",
            " AI10-alphabeta.ppt\n",
            "'AI11-Knowledge Representation (1).ppt'\n",
            "'AI12-Natural Language Processing (1).ppt'\n",
            " AI13New-Planning.ppt\n",
            "'ai (1).zip'\n",
            " ai.zip\n",
            "'algo ppt'\n",
            "'Algorithm assignment.pdf'\n",
            "'Algorithm Design (Kleinberg Tardos 2005) - Solutions.zip'\n",
            " Algorithm_Design.pdf\n",
            " allcgcodes.zip\n",
            " allgraphicscodes.zip\n",
            "'AOS final assignment 1.c'\n",
            " Artificial-Intelligence-Solution.pdf\n",
            " backedge.pdf\n",
            " cal.l\n",
            " cal.y\n",
            "'CI exp.pdf'\n",
            " ci.zip\n",
            "'Colab Notebooks'\n",
            "'Computational Intelligence sample paper 1 (1).pdf'\n",
            "'Computational Intelligence sample paper 1.pdf'\n",
            " CS-693_Manual.doc\n",
            "'dbms (1).zip'\n",
            " DBMS.pdf\n",
            " dbms.zip\n",
            "'Deepti_9_CompilerDesign (1).odt.gdoc'\n",
            " Deepti_9_CompilerDesign.odt.gdoc\n",
            "\"Deepti notes 'DIP UPTIL MINOR.pdf'.pdf\"\n",
            "'Design Document Group 17.pdf'\n",
            " DFD.docx\n",
            " DFD.gdoc\n",
            "'Digital Image Processing M.Sc. 302 DU.pptx'\n",
            "\"DIP 3rd.pdf'.pdf\"\n",
            "'DM ASSIGNMENT 42.gdoc'\n",
            " DM.docx\n",
            " DM.docx.gdoc\n",
            " DM_rollno_31.docx\n",
            " DM_rollno_31.docx.gdoc\n",
            " DSC_0538-01.jpeg\n",
            "'Dynamic Programming at Epitech (1).ppt'\n",
            "'Dynamic Programming at Epitech.ppt'\n",
            "'Dynamic program.....pptx'\n",
            " fees2ndsem.pdf\n",
            "'final minor report.pdf'\n",
            " FORD-FULKER_CUT_SAKSHI_JINDAL_24.ppt\n",
            " Group17_Assignment1.c\n",
            " Group17_Assignment2.c\n",
            " IMG_20181213_201645.jpg\n",
            " IMG_20181213_201651.jpg\n",
            " IMG_20181213_201657.jpg\n",
            " IMG_20181213_201702.jpg\n",
            " IMG_20181213_201708.jpg\n",
            " IMG_20181213_201712.jpg\n",
            " IMG_20181213_201718.jpg\n",
            " IMG_20181213_201722.jpg\n",
            " IMG_20181213_201730.jpg\n",
            "'Interval Partitioning Problem Example _surbhi.pptx'\n",
            "'Introduction to Algorithms (Instructor'\\''s Manual).pdf'\n",
            " iris.py\n",
            " iris_test.h5\n",
            " iris_train.h5\n",
            "'IS NOTES.pdf'\n",
            " is.zip\n",
            " KDD.jpg\n",
            "'lecture_10_network flows.ppt'\n",
            " lecture_11_NPC.ppt\n",
            "'lecture_13_dynamic programming.ppt'\n",
            "'lecture_14_analysis of graph algorithms.pptx'\n",
            " lecture_1_indn_growth_fn.ppt\n",
            " lecture_1_introduction.ppt\n",
            "'lecture_2_5 problems.ppt'\n",
            " lecture_2_rec_rel.ppt\n",
            " lecture_2_review.ppt\n",
            " lecture_3_correctness_of_algo.ppt\n",
            " lecture_3_review.ppt\n",
            " lecture_4_adversary.ppt\n",
            " lecture_5_correctness_of_algo.ppt\n",
            "'lecture_5_greedy algorithms_2017.pptx'\n",
            " lecture_6_dividenconquer.ppt\n",
            " lecture_6_expected_running_times_and_rand_algo.ppt\n",
            "'lecture_7_string matching.ppt'\n",
            " lecture_8_network_flows_2014.ppt\n",
            "'lecture 8 network flows.ppt'\n",
            " lecture_8_NTh.ppt\n",
            " lecture_9_parallel_algo.ppt\n",
            "'Lexical Analysis - Copy.pptx'\n",
            "'Logistic+Regression+with+a+Neural+Network+mindset+v4 (1).html'\n",
            " Logistic+Regression+with+a+Neural+Network+mindset+v4.ipynb\n",
            " master.pdf\n",
            " mastersol.pdf\n",
            " meR9thapril\n",
            "\"MinorI'05.doc\"\n",
            "\"MinorI'06.doc\"\n",
            "\"MinorI'07.doc\"\n",
            "\"MinorI'09.doc\"\n",
            "\"MinorI'10.doc\"\n",
            "\"Minor II'05.doc\"\n",
            "\"Minor II'06.doc\"\n",
            "\"Minor II'07_mcs101.doc\"\n",
            "\"MinorII'09.doc\"\n",
            "\"MinorII'10.doc\"\n",
            "'M.Sc. 302 DU Chapter09.ppt'\n",
            " msc_project\n",
            "'Nagarro Papers.zip'\n",
            "\" 'Neural_Networks.2nd_.pdf'.pdf\"\n",
            "'NN_2nd ed..pdf'\n",
            "'NN_3rd ed.pdf'\n",
            "\"'NNets9_10Rbfs.ppt'\"\n",
            " Not1.pdf\n",
            " Not2.pdf\n",
            " os.c\n",
            "'Placement '\n",
            " PredLogic.pdf\n",
            " Proptiger.xlsx\n",
            " quiz2.docx\n",
            " remove.l\n",
            "'Resume (2).pdf'\n",
            " reverse.l\n",
            " review3_sol.pdf\n",
            " sample.l\n",
            "'sample paper CI.pdf'\n",
            " Sayeedmsc_Rollno18.pdf\n",
            " SEMetric1.ppt\n",
            "\"Share 'DFD 1.docx'\"\n",
            "\"Share 'DFD 1.docx'.gdoc\"\n",
            "\"Share 'Neural Networks and Learning Machines - Simon Haykin.pdf'.pdf\"\n",
            "\"Share 'Sayeedmsc_Rollno18.pdf'.pdf\"\n",
            "'Share '\\''Surbhi.pdf.pdf'\\'' (1).gdoc'\n",
            "\"Share 'Surbhi.pdf.pdf'.gdoc\"\n",
            "\"Share 'Surbhi.pdf.pdf'.pdf\"\n",
            "'sol1 (1).pdf'\n",
            " solu2.pdf\n",
            " solutions_week2.pdf\n",
            "'SQA questions.pdf'\n",
            " sscprintcgle2018.pdf\n",
            " tab.l\n",
            "'Tardos solutions'\n",
            "'The clusters using dbscan will be highly dependent on the parameter value eps and minpts.docx'\n",
            "'The clusters using dbscan will be highly dependent on the parameter value eps and minpts.docx.gdoc'\n",
            " tutorial03-solutions.pdf\n",
            "'Untitled document (1).gdoc'\n",
            "'Untitled document.gdoc'\n",
            "'Untitled folder'\n",
            "'Vertex Cover 2 factor Approximation.pdf'\n"
          ],
          "name": "stdout"
        }
      ]
    },
    {
      "metadata": {
        "id": "wLs5xcffDIgm",
        "colab_type": "code",
        "colab": {}
      },
      "cell_type": "code",
      "source": [
        "import tensorflow"
      ],
      "execution_count": 0,
      "outputs": []
    },
    {
      "metadata": {
        "id": "VGlVH00yGtp2",
        "colab_type": "code",
        "colab": {
          "base_uri": "https://localhost:8080/",
          "height": 180
        },
        "outputId": "43f2fc84-adac-44d2-aa8d-b89f6a7cd84c"
      },
      "cell_type": "code",
      "source": [
        "import os\n",
        "os.chdir(\"/content/drive/My Drive/Workshop\")"
      ],
      "execution_count": 3,
      "outputs": [
        {
          "output_type": "error",
          "ename": "FileNotFoundError",
          "evalue": "ignored",
          "traceback": [
            "\u001b[0;31m---------------------------------------------------------------------------\u001b[0m",
            "\u001b[0;31mFileNotFoundError\u001b[0m                         Traceback (most recent call last)",
            "\u001b[0;32m<ipython-input-3-67d0a8c0b17a>\u001b[0m in \u001b[0;36m<module>\u001b[0;34m()\u001b[0m\n\u001b[1;32m      1\u001b[0m \u001b[0;32mimport\u001b[0m \u001b[0mos\u001b[0m\u001b[0;34m\u001b[0m\u001b[0;34m\u001b[0m\u001b[0m\n\u001b[0;32m----> 2\u001b[0;31m \u001b[0mos\u001b[0m\u001b[0;34m.\u001b[0m\u001b[0mchdir\u001b[0m\u001b[0;34m(\u001b[0m\u001b[0;34m\"/content/drive/My Drive/Workshop\"\u001b[0m\u001b[0;34m)\u001b[0m\u001b[0;34m\u001b[0m\u001b[0;34m\u001b[0m\u001b[0m\n\u001b[0m",
            "\u001b[0;31mFileNotFoundError\u001b[0m: [Errno 2] No such file or directory: '/content/drive/My Drive/Workshop'"
          ]
        }
      ]
    }
  ]
}